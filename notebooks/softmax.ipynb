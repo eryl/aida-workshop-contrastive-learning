{
 "cells": [
  {
   "cell_type": "code",
   "execution_count": 1,
   "metadata": {},
   "outputs": [],
   "source": [
    "import numpy as np\n",
    "import matplotlib.pyplot as plt\n",
    "import ipywidgets"
   ]
  },
  {
   "cell_type": "code",
   "execution_count": 5,
   "metadata": {},
   "outputs": [],
   "source": [
    "k = 10\n",
    "logits = np.random.normal(size=k)"
   ]
  },
  {
   "cell_type": "code",
   "execution_count": 9,
   "metadata": {},
   "outputs": [
    {
     "data": {
      "text/plain": [
       "(-1.1898986221297094, 1.9095009382564476)"
      ]
     },
     "execution_count": 9,
     "metadata": {},
     "output_type": "execute_result"
    },
    {
     "data": {
      "image/png": "[encoded data removed]",
      "text/plain": [
       "<Figure size 640x480 with 1 Axes>"
      ]
     },
     "metadata": {},
     "output_type": "display_data"
    }
   ],
   "source": [
    "plt.bar(np.arange(k), logits)\n",
    "plt.ylim(logits.min()-0.1, logits.max() + 0.1)"
   ]
  },
  {
   "cell_type": "code",
   "execution_count": 10,
   "metadata": {},
   "outputs": [
    {
     "data": {
      "text/plain": [
       "(8.810101377870291, 11.909500938256448)"
      ]
     },
     "execution_count": 10,
     "metadata": {},
     "output_type": "execute_result"
    },
    {
     "data": {
      "image/png": "[encoded data removed]",
      "text/plain": [
       "<Figure size 640x480 with 1 Axes>"
      ]
     },
     "metadata": {},
     "output_type": "display_data"
    }
   ],
   "source": [
    "shifted_logits = logits + 10\n",
    "plt.bar(np.arange(k), shifted_logits)\n",
    "plt.ylim(shifted_logits.min()-0.1, shifted_logits.max() + 0.1)"
   ]
  },
  {
   "cell_type": "code",
   "execution_count": 11,
   "metadata": {},
   "outputs": [],
   "source": [
    "def softmax(x):\n",
    "    exponents = np.exp(x)\n",
    "    Z = exponents.sum()\n",
    "    return exponents / Z"
   ]
  },
  {
   "cell_type": "code",
   "execution_count": 12,
   "metadata": {},
   "outputs": [
    {
     "data": {
      "text/plain": [
       "array([0.16244533, 0.06843048, 0.26165517, 0.07991308, 0.0246525 ,\n",
       "       0.03569052, 0.01440576, 0.06025884, 0.12269094, 0.16985738])"
      ]
     },
     "execution_count": 12,
     "metadata": {},
     "output_type": "execute_result"
    }
   ],
   "source": [
    "softmax(logits)"
   ]
  },
  {
   "cell_type": "code",
   "execution_count": 13,
   "metadata": {},
   "outputs": [
    {
     "data": {
      "text/plain": [
       "array([0.16244533, 0.06843048, 0.26165517, 0.07991308, 0.0246525 ,\n",
       "       0.03569052, 0.01440576, 0.06025884, 0.12269094, 0.16985738])"
      ]
     },
     "execution_count": 13,
     "metadata": {},
     "output_type": "execute_result"
    }
   ],
   "source": [
    "softmax(shifted_logits)"
   ]
  },
  {
   "cell_type": "code",
   "execution_count": 14,
   "metadata": {},
   "outputs": [
    {
     "data": {
      "text/plain": [
       "array([0.10000815, 0.0999995 , 0.10001292, 0.10000105, 0.09998929,\n",
       "       0.09999299, 0.09998392, 0.09999823, 0.10000534, 0.10000859])"
      ]
     },
     "execution_count": 14,
     "metadata": {},
     "output_type": "execute_result"
    }
   ],
   "source": [
    "softmax(logits*0.0001)"
   ]
  },
  {
   "cell_type": "code",
   "execution_count": null,
   "metadata": {},
   "outputs": [],
   "source": []
  },
  {
   "cell_type": "markdown",
   "metadata": {},
   "source": [
    "## Why is the softmax shift-independent?\n",
    "\n",
    "Consider the softmax function:\n",
    "$$\n",
    "\\operatorname{softmax}(\\mathbf{h})_i = \\frac{\\exp(h_i)}{\\sum_{j=1}^{|h|} \\exp(h_j)}\n",
    "$$\n",
    "\n",
    "where $\\exp$ is the exponential function (i.e $\\exp(x) = e^x$). Now consider us adding some scalar constant $C$ to $\\mathbf{h}$\n",
    "$$\n",
    "\\operatorname{softmax}(\\mathbf{h} + C)_i = \\frac{\\exp(h_i+C)}{\\sum_{j=1}^{|h|} \\exp(h_j+C)}\n",
    "$$\n",
    "\n",
    "Du to how exponentials work, this is the same as:\n",
    "$$\n",
    "\\operatorname{softmax}(\\mathbf{h} + C)_i = \\frac{\\exp(h_i)\\exp(C)}{\\sum_{j=1}^{|h|} \\exp(h_j)\\exp(C)} = \\frac{\\exp(h_i)\\cancel{\\exp(C)}}{\\sum_{j=1}^{|h|} \\exp(h_j)\\cancel{\\exp(C)}}\n",
    "$$\n",
    "\n",
    "As you can see, the $\\exp(C)$ in the numerator and denominator cancels out. An insight you can draw from this is that the softmax function doesn't care about \"where\" the logits are located along the number line, it only cares about the relative absolute difference between the components of $\\mathbf{h}$\n",
    "\n"
   ]
  },
  {
   "cell_type": "markdown",
   "metadata": {},
   "source": []
  }
 ],
 "metadata": {
  "kernelspec": {
   "display_name": "constrastive_learning",
   "language": "python",
   "name": "python3"
  },
  "language_info": {
   "codemirror_mode": {
    "name": "ipython",
    "version": 3
   },
   "file_extension": ".py",
   "mimetype": "text/x-python",
   "name": "python",
   "nbconvert_exporter": "python",
   "pygments_lexer": "ipython3",
   "version": "3.11.8"
  }
 },
 "nbformat": 4,
 "nbformat_minor": 2
}
