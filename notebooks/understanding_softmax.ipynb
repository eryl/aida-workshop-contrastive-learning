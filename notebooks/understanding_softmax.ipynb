{
 "cells": [
  {
   "cell_type": "code",
   "execution_count": 1,
   "metadata": {},
   "outputs": [],
   "source": [
    "import matplotlib.pyplot as plt\n",
    "import numpy as np\n",
    "import torch\n",
    "import torch.nn as nn\n",
    "from torchvision.datasets import CIFAR10, MNIST\n",
    "from torchvision.models import resnet18\n",
    "import torchvision.transforms.v2 as transforms\n",
    "\n",
    "device = torch.device('cuda')"
   ]
  },
  {
   "cell_type": "markdown",
   "metadata": {},
   "source": [
    "# What does the softmax \"layer\" do?\n",
    "\n",
    "When we train a model on classification we use a linear output layer followed by a softmax activation to scale the outputs of the linear layer. In this notebook we'll take a closer look at what this layer actually learn when using a softmax output.\n",
    "\n"
   ]
  },
  {
   "cell_type": "markdown",
   "metadata": {},
   "source": [
    "### Setting up the dataset\n",
    "We start by setting up the data. We will use MNIST as is the tradition in deep learning for imaging."
   ]
  },
  {
   "cell_type": "code",
   "execution_count": 2,
   "metadata": {},
   "outputs": [],
   "source": [
    "class ExpandChannels(nn.Module):\n",
    "    def __init__(self, num_channels=3):\n",
    "        super().__init__()\n",
    "        self.num_channels = num_channels\n",
    "    \n",
    "    def forward(self, img):\n",
    "        # Count channels from back, so we can use it both for single examples and batches\n",
    "        *leading_dims, n_channels, height, width = img.shape\n",
    "        if n_channels != self.num_channels:\n",
    "            repeats = [1 for d in leading_dims] + [self.num_channels, 1, 1]\n",
    "            new_img = img.repeat(*repeats)\n",
    "        else:\n",
    "            new_img = img\n",
    "        return new_img\n",
    "        \n",
    "    \n",
    "\n",
    "dataset_transforms = transforms.Compose([transforms.ToImage(), transforms.ToDtype(torch.float32, scale=True), ExpandChannels(3)])\n",
    "train_dataset = MNIST(root='../datasets', download=True, transform=dataset_transforms)\n",
    "test_dataset = MNIST(root='../datasets', train=False, download=True, transform=dataset_transforms)\n",
    "num_classes = len(train_dataset.classes)"
   ]
  },
  {
   "cell_type": "code",
   "execution_count": 102,
   "metadata": {},
   "outputs": [
    {
     "data": {
      "image/png": "[encoded data removed]",
      "text/plain": [
       "<Figure size 640x480 with 12 Axes>"
      ]
     },
     "metadata": {},
     "output_type": "display_data"
    }
   ],
   "source": [
    "# Let's look at some examples. We take the first unique images of each class\n",
    "unique_targets, target_indices = np.unique(train_dataset.targets, return_index=True)\n",
    "fig, axises = plt.subplots(3,4)\n",
    "for ax in axises.flatten():\n",
    "    ax.set_axis_off()\n",
    "for target_index, ax in zip(target_indices, axises.flatten()):\n",
    "    tensor_image, label = train_dataset[target_index]\n",
    "    # torchvision images are channel-first, we transpose \n",
    "    # it so channel is last and convert it to a numpy array\n",
    "    numpy_image = tensor_image.permute(1, 2, 0).numpy()\n",
    "    ax.imshow(numpy_image)\n",
    "fig.suptitle(\"MNIST Examples\")\n",
    "plt.show()"
   ]
  },
  {
   "cell_type": "code",
   "execution_count": 88,
   "metadata": {},
   "outputs": [
    {
     "data": {
      "text/plain": [
       "(tensor([[[0., 0., 0.,  ..., 0., 0., 0.],\n",
       "          [0., 0., 0.,  ..., 0., 0., 0.],\n",
       "          [0., 0., 0.,  ..., 0., 0., 0.],\n",
       "          ...,\n",
       "          [0., 0., 0.,  ..., 0., 0., 0.],\n",
       "          [0., 0., 0.,  ..., 0., 0., 0.],\n",
       "          [0., 0., 0.,  ..., 0., 0., 0.]],\n",
       " \n",
       "         [[0., 0., 0.,  ..., 0., 0., 0.],\n",
       "          [0., 0., 0.,  ..., 0., 0., 0.],\n",
       "          [0., 0., 0.,  ..., 0., 0., 0.],\n",
       "          ...,\n",
       "          [0., 0., 0.,  ..., 0., 0., 0.],\n",
       "          [0., 0., 0.,  ..., 0., 0., 0.],\n",
       "          [0., 0., 0.,  ..., 0., 0., 0.]],\n",
       " \n",
       "         [[0., 0., 0.,  ..., 0., 0., 0.],\n",
       "          [0., 0., 0.,  ..., 0., 0., 0.],\n",
       "          [0., 0., 0.,  ..., 0., 0., 0.],\n",
       "          ...,\n",
       "          [0., 0., 0.,  ..., 0., 0., 0.],\n",
       "          [0., 0., 0.,  ..., 0., 0., 0.],\n",
       "          [0., 0., 0.,  ..., 0., 0., 0.]]]),\n",
       " 5)"
      ]
     },
     "execution_count": 88,
     "metadata": {},
     "output_type": "execute_result"
    }
   ],
   "source": [
    "train_dataset[0]"
   ]
  },
  {
   "cell_type": "code",
   "execution_count": 3,
   "metadata": {},
   "outputs": [],
   "source": [
    "from sklearn.model_selection import train_test_split\n",
    "train_indices, dev_indices = train_test_split(np.arange(len(train_dataset)),  test_size=0.1, random_state=42, stratify=train_dataset.targets)\n"
   ]
  },
  {
   "cell_type": "code",
   "execution_count": 4,
   "metadata": {},
   "outputs": [],
   "source": [
    "train_images, train_targets = zip(*[train_dataset[i] for i in train_indices])\n",
    "dev_images, dev_targets = zip(*[train_dataset[i] for i in dev_indices])\n",
    "\n"
   ]
  },
  {
   "cell_type": "code",
   "execution_count": 5,
   "metadata": {},
   "outputs": [],
   "source": [
    "train_images = torch.stack(train_images)\n",
    "train_targets = torch.tensor(train_targets)\n",
    "dev_images = torch.stack(dev_images)\n",
    "dev_targets = torch.tensor(dev_targets)"
   ]
  },
  {
   "cell_type": "code",
   "execution_count": 6,
   "metadata": {},
   "outputs": [],
   "source": [
    "from torch.utils.data import TensorDataset\n",
    "train_split_dataset = TensorDataset(train_images, train_targets)\n",
    "dev_split_dataset = TensorDataset(dev_images, dev_targets)"
   ]
  },
  {
   "cell_type": "markdown",
   "metadata": {},
   "source": [
    "### The visualization subset\n",
    "\n",
    "To illustrate what the model learns, we'll select a subset of the training data to use to calculate features. The reason for selecting a subset of the training data is for us to understand what the model is actually doing while it's learning."
   ]
  },
  {
   "cell_type": "code",
   "execution_count": 7,
   "metadata": {},
   "outputs": [],
   "source": [
    "# Well make a small subselection of the training samples\n",
    "n = 20\n",
    "visualization_sample_index, _ = train_test_split(np.arange(len(train_images)), shuffle=True, stratify=train_targets, train_size=n*num_classes)\n",
    "visualization_images = torch.stack([train_images[i] for i in visualization_sample_index])\n",
    "visualization_targets = torch.stack([train_targets[i] for i in visualization_sample_index])\n",
    "visualization_dataset = TensorDataset(visualization_images, visualization_targets)\n"
   ]
  },
  {
   "cell_type": "markdown",
   "metadata": {},
   "source": [
    "## The model\n",
    "We'll create a simple resnet-based model and focus on the layers just before applying the softmax function. We replace the pre-defined fully connected layers with a single two-part bottleneck. We select the dimensionality of this bottleneck such that we can visualize it (e.g. 2D or 3D). In the first case we will make things neat by forcing the model to use unit-norm vectors for the bottleneck representations as well as the output weights. This means that the only thing the network can change to change the prediction output is the angle between the bottleneck representations and the output weights."
   ]
  },
  {
   "cell_type": "code",
   "execution_count": 12,
   "metadata": {},
   "outputs": [
    {
     "data": {
      "text/plain": [
       "ResNet(\n",
       "  (conv1): Conv2d(3, 64, kernel_size=(7, 7), stride=(2, 2), padding=(3, 3), bias=False)\n",
       "  (bn1): BatchNorm2d(64, eps=1e-05, momentum=0.1, affine=True, track_running_stats=True)\n",
       "  (relu): ReLU(inplace=True)\n",
       "  (maxpool): MaxPool2d(kernel_size=3, stride=2, padding=1, dilation=1, ceil_mode=False)\n",
       "  (layer1): Sequential(\n",
       "    (0): BasicBlock(\n",
       "      (conv1): Conv2d(64, 64, kernel_size=(3, 3), stride=(1, 1), padding=(1, 1), bias=False)\n",
       "      (bn1): BatchNorm2d(64, eps=1e-05, momentum=0.1, affine=True, track_running_stats=True)\n",
       "      (relu): ReLU(inplace=True)\n",
       "      (conv2): Conv2d(64, 64, kernel_size=(3, 3), stride=(1, 1), padding=(1, 1), bias=False)\n",
       "      (bn2): BatchNorm2d(64, eps=1e-05, momentum=0.1, affine=True, track_running_stats=True)\n",
       "    )\n",
       "    (1): BasicBlock(\n",
       "      (conv1): Conv2d(64, 64, kernel_size=(3, 3), stride=(1, 1), padding=(1, 1), bias=False)\n",
       "      (bn1): BatchNorm2d(64, eps=1e-05, momentum=0.1, affine=True, track_running_stats=True)\n",
       "      (relu): ReLU(inplace=True)\n",
       "      (conv2): Conv2d(64, 64, kernel_size=(3, 3), stride=(1, 1), padding=(1, 1), bias=False)\n",
       "      (bn2): BatchNorm2d(64, eps=1e-05, momentum=0.1, affine=True, track_running_stats=True)\n",
       "    )\n",
       "  )\n",
       "  (layer2): Sequential(\n",
       "    (0): BasicBlock(\n",
       "      (conv1): Conv2d(64, 128, kernel_size=(3, 3), stride=(2, 2), padding=(1, 1), bias=False)\n",
       "      (bn1): BatchNorm2d(128, eps=1e-05, momentum=0.1, affine=True, track_running_stats=True)\n",
       "      (relu): ReLU(inplace=True)\n",
       "      (conv2): Conv2d(128, 128, kernel_size=(3, 3), stride=(1, 1), padding=(1, 1), bias=False)\n",
       "      (bn2): BatchNorm2d(128, eps=1e-05, momentum=0.1, affine=True, track_running_stats=True)\n",
       "      (downsample): Sequential(\n",
       "        (0): Conv2d(64, 128, kernel_size=(1, 1), stride=(2, 2), bias=False)\n",
       "        (1): BatchNorm2d(128, eps=1e-05, momentum=0.1, affine=True, track_running_stats=True)\n",
       "      )\n",
       "    )\n",
       "    (1): BasicBlock(\n",
       "      (conv1): Conv2d(128, 128, kernel_size=(3, 3), stride=(1, 1), padding=(1, 1), bias=False)\n",
       "      (bn1): BatchNorm2d(128, eps=1e-05, momentum=0.1, affine=True, track_running_stats=True)\n",
       "      (relu): ReLU(inplace=True)\n",
       "      (conv2): Conv2d(128, 128, kernel_size=(3, 3), stride=(1, 1), padding=(1, 1), bias=False)\n",
       "      (bn2): BatchNorm2d(128, eps=1e-05, momentum=0.1, affine=True, track_running_stats=True)\n",
       "    )\n",
       "  )\n",
       "  (layer3): Sequential(\n",
       "    (0): BasicBlock(\n",
       "      (conv1): Conv2d(128, 256, kernel_size=(3, 3), stride=(2, 2), padding=(1, 1), bias=False)\n",
       "      (bn1): BatchNorm2d(256, eps=1e-05, momentum=0.1, affine=True, track_running_stats=True)\n",
       "      (relu): ReLU(inplace=True)\n",
       "      (conv2): Conv2d(256, 256, kernel_size=(3, 3), stride=(1, 1), padding=(1, 1), bias=False)\n",
       "      (bn2): BatchNorm2d(256, eps=1e-05, momentum=0.1, affine=True, track_running_stats=True)\n",
       "      (downsample): Sequential(\n",
       "        (0): Conv2d(128, 256, kernel_size=(1, 1), stride=(2, 2), bias=False)\n",
       "        (1): BatchNorm2d(256, eps=1e-05, momentum=0.1, affine=True, track_running_stats=True)\n",
       "      )\n",
       "    )\n",
       "    (1): BasicBlock(\n",
       "      (conv1): Conv2d(256, 256, kernel_size=(3, 3), stride=(1, 1), padding=(1, 1), bias=False)\n",
       "      (bn1): BatchNorm2d(256, eps=1e-05, momentum=0.1, affine=True, track_running_stats=True)\n",
       "      (relu): ReLU(inplace=True)\n",
       "      (conv2): Conv2d(256, 256, kernel_size=(3, 3), stride=(1, 1), padding=(1, 1), bias=False)\n",
       "      (bn2): BatchNorm2d(256, eps=1e-05, momentum=0.1, affine=True, track_running_stats=True)\n",
       "    )\n",
       "  )\n",
       "  (layer4): Sequential(\n",
       "    (0): BasicBlock(\n",
       "      (conv1): Conv2d(256, 512, kernel_size=(3, 3), stride=(2, 2), padding=(1, 1), bias=False)\n",
       "      (bn1): BatchNorm2d(512, eps=1e-05, momentum=0.1, affine=True, track_running_stats=True)\n",
       "      (relu): ReLU(inplace=True)\n",
       "      (conv2): Conv2d(512, 512, kernel_size=(3, 3), stride=(1, 1), padding=(1, 1), bias=False)\n",
       "      (bn2): BatchNorm2d(512, eps=1e-05, momentum=0.1, affine=True, track_running_stats=True)\n",
       "      (downsample): Sequential(\n",
       "        (0): Conv2d(256, 512, kernel_size=(1, 1), stride=(2, 2), bias=False)\n",
       "        (1): BatchNorm2d(512, eps=1e-05, momentum=0.1, affine=True, track_running_stats=True)\n",
       "      )\n",
       "    )\n",
       "    (1): BasicBlock(\n",
       "      (conv1): Conv2d(512, 512, kernel_size=(3, 3), stride=(1, 1), padding=(1, 1), bias=False)\n",
       "      (bn1): BatchNorm2d(512, eps=1e-05, momentum=0.1, affine=True, track_running_stats=True)\n",
       "      (relu): ReLU(inplace=True)\n",
       "      (conv2): Conv2d(512, 512, kernel_size=(3, 3), stride=(1, 1), padding=(1, 1), bias=False)\n",
       "      (bn2): BatchNorm2d(512, eps=1e-05, momentum=0.1, affine=True, track_running_stats=True)\n",
       "    )\n",
       "  )\n",
       "  (avgpool): AdaptiveAvgPool2d(output_size=(1, 1))\n",
       "  (fc): SphericalPredictionHead()\n",
       ")"
      ]
     },
     "execution_count": 12,
     "metadata": {},
     "output_type": "execute_result"
    }
   ],
   "source": [
    "from torch.nn.functional import normalize\n",
    "\n",
    "model = resnet18(weights=None)\n",
    "\n",
    "# Determine the number of input features to the output layer:\n",
    "num_ftrs = model.fc.in_features\n",
    "\n",
    "# We will create an \"prediction head\" which will actually be two linear layers with a bottlneck inbetween. \n",
    "# The linear layers will be bottlenecked through a 2D feature space so that they live in a geometric space \n",
    "# we can visualize. We make this into a class because we want to easily manipulate the intermediate results\n",
    "\n",
    "class SphericalPredictionHead(nn.Module):\n",
    "    def __init__(self, input_dimension, output_dimension, bottleneck_dimension=2, rng=None):\n",
    "        super().__init__()\n",
    "        if rng is None:\n",
    "            rng = np.random.default_rng()\n",
    "        self.input_dimension = input_dimension\n",
    "        self.output_dimension = output_dimension\n",
    "        self.bottleneck_dimension = bottleneck_dimension\n",
    "        \n",
    "        # Since we actually only want linear transformations, which we're going to normalize before \n",
    "        # using, it's easier to just create the matrices explicitly. Note that we will multiply \n",
    "        # these matrices from the right since we assume that the first axis of the input is the \n",
    "        # batch dimension.\n",
    "        self.input_transform = nn.Parameter(torch.tensor(rng.normal(size=(input_dimension, bottleneck_dimension)), dtype=torch.float32))\n",
    "        self.output_transform = nn.Parameter(torch.tensor(rng.normal(size=(bottleneck_dimension, output_dimension)), dtype=torch.float32))\n",
    "    \n",
    "    def forward(self, x):\n",
    "        x_reduced = torch.matmul(x, self.input_transform)\n",
    "        x_normalized = normalize(x_reduced, dim=-1) # By using -1, we're saying that the normalization should be along the innermost axis.\n",
    "        output_transform_normalized = normalize(self.output_transform, dim=0)\n",
    "        # We're now taking the matrix multiplication between the normalized input vectors (all lying on the unit sphere) with the \n",
    "        # normalized \"softmax\" weights, also lying on the unit sphere. This is exactly the same as calculating the cosine of \n",
    "        # the angle between the vectors\n",
    "        cosines = torch.matmul(x_normalized, output_transform_normalized)\n",
    "        return cosines\n",
    "\n",
    "rng = np.random.default_rng(1729)\n",
    "prediction_head = SphericalPredictionHead(num_ftrs, num_classes, bottleneck_dimension=2, rng=rng)\n",
    "model.fc = prediction_head\n",
    "model.to(device)\n"
   ]
  },
  {
   "cell_type": "markdown",
   "metadata": {},
   "source": [
    "### Getting the feature representations\n",
    "\n",
    "What we're really interested in is getting the representations of our images just before we send them to the classification layer. This is how the neural network has learnt to represent the images to minimize the categorical cross entropy. We also want the normalized weights so that we can visualize them. The torchvision package has neat utilities for doing this. We can use the function `get_graph_node_names`to trace the compute graph of the model it can create a tree of nodes which are being called. This returns two lists of node names: one for the model in _training_ mode and one in _evaluation_ mode. In this case we're going to use the model in evaluation mode to get the representations, so the nodes we are interested in are in the second of the two returned lists:"
   ]
  },
  {
   "cell_type": "code",
   "execution_count": 13,
   "metadata": {},
   "outputs": [
    {
     "data": {
      "text/plain": [
       "['x',\n",
       " 'conv1',\n",
       " 'bn1',\n",
       " 'relu',\n",
       " 'maxpool',\n",
       " 'layer1.0.conv1',\n",
       " 'layer1.0.bn1',\n",
       " 'layer1.0.relu',\n",
       " 'layer1.0.conv2',\n",
       " 'layer1.0.bn2',\n",
       " 'layer1.0.add',\n",
       " 'layer1.0.relu_1',\n",
       " 'layer1.1.conv1',\n",
       " 'layer1.1.bn1',\n",
       " 'layer1.1.relu',\n",
       " 'layer1.1.conv2',\n",
       " 'layer1.1.bn2',\n",
       " 'layer1.1.add',\n",
       " 'layer1.1.relu_1',\n",
       " 'layer2.0.conv1',\n",
       " 'layer2.0.bn1',\n",
       " 'layer2.0.relu',\n",
       " 'layer2.0.conv2',\n",
       " 'layer2.0.bn2',\n",
       " 'layer2.0.downsample.0',\n",
       " 'layer2.0.downsample.1',\n",
       " 'layer2.0.add',\n",
       " 'layer2.0.relu_1',\n",
       " 'layer2.1.conv1',\n",
       " 'layer2.1.bn1',\n",
       " 'layer2.1.relu',\n",
       " 'layer2.1.conv2',\n",
       " 'layer2.1.bn2',\n",
       " 'layer2.1.add',\n",
       " 'layer2.1.relu_1',\n",
       " 'layer3.0.conv1',\n",
       " 'layer3.0.bn1',\n",
       " 'layer3.0.relu',\n",
       " 'layer3.0.conv2',\n",
       " 'layer3.0.bn2',\n",
       " 'layer3.0.downsample.0',\n",
       " 'layer3.0.downsample.1',\n",
       " 'layer3.0.add',\n",
       " 'layer3.0.relu_1',\n",
       " 'layer3.1.conv1',\n",
       " 'layer3.1.bn1',\n",
       " 'layer3.1.relu',\n",
       " 'layer3.1.conv2',\n",
       " 'layer3.1.bn2',\n",
       " 'layer3.1.add',\n",
       " 'layer3.1.relu_1',\n",
       " 'layer4.0.conv1',\n",
       " 'layer4.0.bn1',\n",
       " 'layer4.0.relu',\n",
       " 'layer4.0.conv2',\n",
       " 'layer4.0.bn2',\n",
       " 'layer4.0.downsample.0',\n",
       " 'layer4.0.downsample.1',\n",
       " 'layer4.0.add',\n",
       " 'layer4.0.relu_1',\n",
       " 'layer4.1.conv1',\n",
       " 'layer4.1.bn1',\n",
       " 'layer4.1.relu',\n",
       " 'layer4.1.conv2',\n",
       " 'layer4.1.bn2',\n",
       " 'layer4.1.add',\n",
       " 'layer4.1.relu_1',\n",
       " 'avgpool',\n",
       " 'flatten',\n",
       " 'fc.fc_input_transform',\n",
       " 'fc.matmul',\n",
       " 'fc.normalize',\n",
       " 'fc.fc_output_transform',\n",
       " 'fc.normalize_1',\n",
       " 'fc.matmul_1']"
      ]
     },
     "execution_count": 13,
     "metadata": {},
     "output_type": "execute_result"
    }
   ],
   "source": [
    "from torchvision.models.feature_extraction import create_feature_extractor, get_graph_node_names\n",
    "# Inspect the forward graph of our model to get the correct feature node\n",
    "train_nodes, eval_nodes = get_graph_node_names(model)\n",
    "eval_nodes"
   ]
  },
  {
   "cell_type": "markdown",
   "metadata": {},
   "source": [
    "Here you can see that there are a couple of nodes whos names start with `fc.`, you might recognize them from our SphericalPredictionHead. The first `fc.normalize` is the one which has been applied to the bottlenecked features and is the first one we're after. The second normalization node, `fc.normalize_1`, is the result of normalizing the \"softmax\" weight vectors, which we also want.\n",
    "\n",
    "We can use  the convinience function `create_feature_extractor` to get a wrapper of the model which returns the values of the desired nodes. As an input we give it the names of the nodes we are interested in and what name we would like these values to have in the output of the feature extractor."
   ]
  },
  {
   "cell_type": "code",
   "execution_count": 14,
   "metadata": {},
   "outputs": [],
   "source": [
    "feature_extractor = create_feature_extractor(model, return_nodes={'fc.normalize': 'normalized_input_features', 'fc.normalize_1': 'normalized_softmax_weights'})"
   ]
  },
  {
   "cell_type": "markdown",
   "metadata": {},
   "source": [
    "We can try this out on a part of the dataset:"
   ]
  },
  {
   "cell_type": "code",
   "execution_count": 18,
   "metadata": {},
   "outputs": [
    {
     "data": {
      "text/plain": [
       "{'normalized_input_features': tensor([[-0.7101, -0.7041]], device='cuda:0'),\n",
       " 'normalized_softmax_weights': tensor([[ 0.4241, -0.8653, -0.7037,  0.6079, -0.0956, -0.2707,  0.9309, -0.9995,\n",
       "           0.3497,  0.8962],\n",
       "         [-0.9056,  0.5012, -0.7105,  0.7940, -0.9954,  0.9627, -0.3653,  0.0320,\n",
       "           0.9369,  0.4436]], device='cuda:0')}"
      ]
     },
     "execution_count": 18,
     "metadata": {},
     "output_type": "execute_result"
    }
   ],
   "source": [
    "\n",
    "with torch.inference_mode():\n",
    "    x_0, y_0 = train_split_dataset[0]\n",
    "    features = feature_extractor(x_0.to(device).unsqueeze(0))\n",
    "features"
   ]
  },
  {
   "cell_type": "markdown",
   "metadata": {},
   "source": [
    "As you can see, the feature extractor returns a dictionary where the keys are the target names we gave in the `return_nodes` argument to `create_feature_extractor`. The values are calculated results at the different compute nodes which we will store while we are training the network."
   ]
  },
  {
   "cell_type": "markdown",
   "metadata": {},
   "source": [
    "## Training the network\n",
    "\n",
    "We'll now train the network for a couple of epochs. The important part is that we will pause the training with a regular interval to evaluate what the features for our selected visualization subset is, as well as what the softmax weight vectors for the output layer are. We'll then visualize these results after the training is done."
   ]
  },
  {
   "cell_type": "code",
   "execution_count": 17,
   "metadata": {},
   "outputs": [
    {
     "data": {
      "application/vnd.jupyter.widget-view+json": {
       "model_id": "4c08af6f019f48b8943fdd842c8c1cc7",
       "version_major": 2,
       "version_minor": 0
      },
      "text/plain": [
       "Epoch:   0%|          | 0/5 [00:00<?, ?it/s]"
      ]
     },
     "metadata": {},
     "output_type": "display_data"
    },
    {
     "data": {
      "application/vnd.jupyter.widget-view+json": {
       "model_id": "4e1252333fea49adadf4d3af545272d9",
       "version_major": 2,
       "version_minor": 0
      },
      "text/plain": [
       "Train batch:   0%|          | 0/844 [00:00<?, ?it/s]"
      ]
     },
     "metadata": {},
     "output_type": "display_data"
    },
    {
     "data": {
      "application/vnd.jupyter.widget-view+json": {
       "model_id": "9115d56a0083425f92729e6bfca6e55f",
       "version_major": 2,
       "version_minor": 0
      },
      "text/plain": [
       "Dev batch:   0%|          | 0/94 [00:00<?, ?it/s]"
      ]
     },
     "metadata": {},
     "output_type": "display_data"
    }
   ],
   "source": [
    "from torch.utils.data import DataLoader\n",
    "from tqdm.notebook import tqdm, trange\n",
    "\n",
    "device = torch.device('cuda')\n",
    "\n",
    "batch_size = 64\n",
    "train_dataloader = DataLoader(train_split_dataset, batch_size=batch_size, shuffle=True, num_workers=4, persistent_workers=True)\n",
    "dev_dataloader = DataLoader(dev_split_dataset, batch_size=batch_size, shuffle=False, num_workers=4, persistent_workers=True)\n",
    "visualization_dataloader = DataLoader(visualization_dataset, batch_size=batch_size, drop_last=False, shuffle=False, num_workers=4, persistent_workers=True)\n",
    "\n",
    "model.to(device)\n",
    "\n",
    "loss_fn = torch.nn.CrossEntropyLoss()\n",
    "optimizer = torch.optim.AdamW(model.parameters(), lr=1e-4)\n",
    "\n",
    "epochs = 5\n",
    "sample_step = 20\n",
    "n_iterations = 0\n",
    "visualization_representations = {i: [] for i in range(epochs)}\n",
    "visualization_weights = {i: None for i in range(epochs)}\n",
    "visualization_targets = None\n",
    "\n",
    "epoch_progress_bar = trange(epochs, desc=\"Epoch\")\n",
    "train_progress_bar = trange(len(train_dataloader), desc=\"Train batch\")\n",
    "dev_progress_bar = trange(len(dev_dataloader), desc=\"Dev batch\")\n",
    "\n",
    "    \n",
    "for epoch in range(epochs):\n",
    "    model.train()\n",
    "    \n",
    "    train_progress_bar.reset()\n",
    "    dev_progress_bar.reset()    \n",
    "    for train_batch in train_dataloader:\n",
    "        optimizer.zero_grad()\n",
    "        inputs, targets = train_batch\n",
    "        cosine_predictions = model(inputs.to(device))\n",
    "        loss = loss_fn(cosine_predictions, targets.to(device))\n",
    "        loss.backward()\n",
    "        optimizer.step()\n",
    "        if n_iterations % sample_step == 0:\n",
    "            with torch.no_grad():\n",
    "                model.eval()\n",
    "                viz_features = []\n",
    "                viz_targets = []\n",
    "                normalized_softmax_weights = None\n",
    "                for viz_batch in visualization_dataloader:\n",
    "                    inputs, targets = viz_batch\n",
    "                    features = feature_extractor(inputs.to(device))\n",
    "                    viz_features.append(features['normalized_input_features'].cpu())\n",
    "                    if normalized_softmax_weights is None:\n",
    "                        normalized_softmax_weights = features['normalized_softmax_weights'].cpu().numpy()\n",
    "                    viz_targets.append(targets.cpu())\n",
    "                concatenated_viz_features = torch.concat(viz_features).numpy()\n",
    "                concatenated_viz_targets = torch.concat(viz_targets).numpy()\n",
    "                if visualization_targets is None:\n",
    "                    visualization_targets = concatenated_viz_targets\n",
    "                visualization_representations[n_iterations//sample_step] = concatenated_viz_features\n",
    "                visualization_weights[n_iterations//sample_step] = normalized_softmax_weights\n",
    "            model.train()\n",
    "        n_iterations += 1\n",
    "        train_progress_bar.update()\n",
    "        \n",
    "    \n",
    "    with torch.no_grad():\n",
    "        model.eval()\n",
    "        total_dev_loss = 0\n",
    "        n_dev_samples = 0\n",
    "        for dev_batch in dev_dataloader:\n",
    "            inputs, targets = dev_batch\n",
    "            cosine_predictions = model(inputs.to(device))\n",
    "            loss = loss_fn(cosine_predictions, targets.to(device))\n",
    "            n = len(inputs)\n",
    "            batch_loss = loss.item() * n\n",
    "            total_dev_loss += batch_loss\n",
    "            n_dev_samples += n\n",
    "            dev_progress_bar.update()\n",
    "        #print(\"Dev loss: \", total_dev_loss/n_dev_samples)\n",
    "    epoch_progress_bar.update()\n",
    "        \n",
    "        \n",
    "        \n",
    "\n",
    "        \n",
    "        "
   ]
  },
  {
   "cell_type": "markdown",
   "metadata": {},
   "source": [
    "### Visualizing the features of the training data\n",
    "We want to inspect where the input features wound up in input space. To make the visualization meaningful we create a very small subset of the training data (20 samples per class)."
   ]
  },
  {
   "cell_type": "code",
   "execution_count": 103,
   "metadata": {},
   "outputs": [
    {
     "data": {
      "application/vnd.jupyter.widget-view+json": {
       "model_id": "342ed7da18ad4657bbc8a6cf0f65cbea",
       "version_major": 2,
       "version_minor": 0
      },
      "text/plain": [
       "interactive(children=(IntSlider(value=0, description='epoch', max=843), Output()), _dom_classes=('widget-inter…"
      ]
     },
     "metadata": {},
     "output_type": "display_data"
    },
    {
     "data": {
      "text/plain": [
       "<function __main__.update_plot(epoch)>"
      ]
     },
     "execution_count": 103,
     "metadata": {},
     "output_type": "execute_result"
    }
   ],
   "source": [
    "import numpy as np\n",
    "import matplotlib.pyplot as plt\n",
    "from matplotlib.lines import Line2D\n",
    "import matplotlib.colors as colors\n",
    "#from matplotlib.animation import FuncAnimation\n",
    "from ipywidgets import interact\n",
    "import ipywidgets as widgets\n",
    "\n",
    "#fig, ax = plt.subplots(figsize=(8,8))\n",
    "\n",
    "initial_representations = visualization_representations[0]\n",
    "initial_weights = visualization_weights[0]\n",
    "\n",
    "cmap = plt.get_cmap('tab10')\n",
    "cNorm  = colors.Normalize(vmin=min(train_targets), vmax=max(train_targets))\n",
    "\n",
    "class_index_to_value = {i: v for v,i in train_dataset.class_to_idx.items()}\n",
    "class_index_to_color = {i: cmap(cNorm(i)) for i in class_index_to_value.keys()}\n",
    "\n",
    "x_lim = (-1.1, 1.1)\n",
    "y_lim = (-1.1, 1.1)\n",
    "\n",
    "def update_plot(epoch):\n",
    "    figure = plt.figure(figsize=(6,6))\n",
    "    representations = visualization_representations[epoch]\n",
    "    plt.scatter(representations[:,0], representations[:,1], c=[class_index_to_color[x] for x in visualization_targets])\n",
    "    epoch_weights = visualization_weights[epoch]\n",
    "    for i, (x,y) in enumerate(epoch_weights.T):\n",
    "        label = class_index_to_value[i]\n",
    "        color = class_index_to_color[i]\n",
    "        plt.plot([0, x], [0,y], label=label, color=color)\n",
    "    plt.xlim(x_lim)\n",
    "    plt.ylim(y_lim)\n",
    "    \n",
    "\n",
    "interact(update_plot, epoch=widgets.IntSlider(min=0, max=max(visualization_representations.keys()), step=1, value=0))\n",
    "    "
   ]
  },
  {
   "cell_type": "markdown",
   "metadata": {},
   "source": [
    "### So what are the softmax vectors?\n",
    "As you can see in the example, each individual element of the output layer (the logit per class) is associated with a vector. A neural network learns to solve the classification problem by mapping each input element in the training data as close (in terms of angle) as possible to its class-vector. In many ways this is kind of like K-means clustering in the sense that we're learning a centroid or prototype vector per class. This shouldn't come as too much of a surprise if we remember the close relationship between the **dot product** and angles. The dot product of two vectors is the same as the cosine of the angle between them and scaled by the product of their magnitude:\n",
    "$$\n",
    "\\mathbf{u} \\cdot \\mathbf{v} = \\lvert \\mathbf{u} \\rvert \\lvert \\mathbf{v} \\rvert \\cos \\alpha\n",
    "$$\n",
    "\n",
    "Where $\\alpha$ is the angle between the vectors. We can rewrite this to:\n",
    "$$\n",
    "\\cos \\alpha = \\frac{\\mathbf{u} \\cdot \\mathbf{v}}{\\lvert \\mathbf{u} \\rvert \\lvert \\mathbf{v} \\rvert} = \\frac{\\mathbf{u}}{\\lvert \\mathbf{u} \\rvert} \\cdot \\frac{\\mathbf{v}}{ \\lvert \\mathbf{v} \\rvert} \n",
    "$$\n",
    "\n",
    "In other words, the cosine of the angle between two vectors is the same as the dot product between the _normalized_ vectors which is **exactly** what we implemented in the _spherical_ prediction head. The fundamental way in which most of our neural networks solve their problems is by _minimizing angles between vectors_. This ofcourse only holds for neural networks which use the dot product as its main operation, but that holds for all neural networks we typically use today.\n",
    "\n",
    "We could think of our model as containing two main blocks: an _encoder_ and a _decoder_. The _encoder_ maps the inputs $x$ to the unit sphere: \n",
    "$$\n",
    "\\mathbf{z} = f_{enc}(\\mathbf{x})\n",
    "$$\n",
    "\n",
    "The decoder then maps the input vector to a categorical distribution:\n",
    "$$\n",
    "\\mathbf{\\hat{y}} = f_{dec}(\\mathbf{z})\n",
    "$$\n",
    "\n",
    "The decoder is what drives the learning of the upstreams neural network. In our case, the decoder is simply a matrix multiplication;\n",
    "$$\n",
    "\\mathbf{\\hat{y}} = W_s \\mathbf{z} = \\begin{bmatrix}\\mathbf{w}_{1} \\\\ \\mathbf{w}_{2} \\\\ \\vdots \\\\ \\mathbf{w}_{c} \\end{bmatrix} \\mathbf{z} = \\begin{bmatrix}\\mathbf{w}_{1} \\cdot \\mathbf{z} \\\\ \\mathbf{w}_{2} \\cdot \\mathbf{z} \\\\ \\vdots \\\\ \\mathbf{w}_{c} \\cdot \\mathbf{z} \\end{bmatrix}\n",
    "$$\n",
    "\n",
    "The $w_i$ here are our softmax vectors, and the result of our output is actually the _unscaled_ cosine of the angle between the transformed input and our softmax vectors.\n"
   ]
  },
  {
   "cell_type": "markdown",
   "metadata": {},
   "source": [
    "## Exercise\n",
    "\n",
    "Try changing the code above to not train the softmax layer. You can do this by changing the input to the optimizer in the training cell:\n",
    "\n",
    "```python\n",
    "parameters = list(model.parameters())\n",
    "parameters = parameters[:-1] # Skip the last parameters, which we know is the output layer\n",
    "optimizer = torch.optim.AdamW(parameters, lr=1e-4)\n",
    "```\n",
    "\n",
    "We simply don't give the output layer parameters to the optimization algorithm which means they will keep whatever value we initialize them to. Another change we might want to do is to actually change the initialization of the prediction head to something like this:\n",
    "```python\n",
    "    def __init__(self, input_dimension, output_dimension, bottleneck_dimension=2, rng=None):\n",
    "        super().__init__()\n",
    "        if rng is None:\n",
    "            rng = np.random.default_rng()\n",
    "        self.input_dimension = input_dimension\n",
    "        self.output_dimension = output_dimension\n",
    "        self.bottleneck_dimension = bottleneck_dimension\n",
    "        \n",
    "        # Since we actually only want linear transformations, which we're going to normalize before \n",
    "        # using, it's easier to just create the matrices explicitly. Note that we will multiply \n",
    "        # these matrices from the right since we assume that the first axis of the input is the \n",
    "        # batch dimension.\n",
    "        self.input_transform = nn.Parameter(torch.tensor(rng.normal(size=(input_dimension, 2)), dtype=torch.float32))\n",
    "        output_angles = np.linspace(0, 2*np.pi, output_dimension)\n",
    "        x = np.cos(output_angles)\n",
    "        y = np.sin(output_angles)\n",
    "        output_weights = np.stack((x,y))\n",
    "        self.output_transform = nn.Parameter(torch.tensor(output_weights), dtype=torch.float32)\n",
    "```\n",
    "This **hardcodes** a bottleneck dimension of 2, we chose to distribute the softmax vectors evenly along the unit circle. With other bottleneck dimensions, we'd have to do something more complicated. With _very_ high bottleneck dimension, we don't need to bother with manually spreading out the vectors. In high dimensional spaces random vectors will very likely be \"far away\" from each other in terms of angle.\n",
    "\n",
    "You can inspect the weight vectors with this snippet:\n",
    "```python\n",
    "for x,y in model.fc.output_transform.detach().cpu().numpy().T:\n",
    "    plt.plot([0,x], [0,y])\n",
    "```\n",
    "\n",
    "**Try training the model with these changes, what happens?**\n"
   ]
  },
  {
   "cell_type": "markdown",
   "metadata": {},
   "source": [
    "## Training without normalizing the features and softmax weights\n",
    "In the example above, we forced the network to only use the angle between the vectors to solve the classification problem, which lended itself nicely to a visualization and makes the connection to the cosine _exact_. We'll now look at how the network behaves if we're instead letting it train without this constraint. Note that this is a departure from our main goal: understanding how we can implement contrastive learning, but we'd be leaving an important question hanging if we don't try it out."
   ]
  },
  {
   "cell_type": "code",
   "execution_count": 30,
   "metadata": {},
   "outputs": [],
   "source": [
    "from torch.nn.functional import normalize\n",
    "\n",
    "model = resnet18(weights=None)\n",
    "\n",
    "# Determine the number of input features to the output layer:\n",
    "num_ftrs = model.fc.in_features\n",
    "\n",
    "# We will create an \"prediction head\" which will actually be two linear layers with a bottlneck inbetween. \n",
    "# The linear layers will be bottlenecked through a 2D feature space so that they live in a geometric space \n",
    "# we can visualize. We make this into a class because we want to easily manipulate the intermediate results\n",
    "\n",
    "class BottleneckPredictionHead(nn.Module):\n",
    "    def __init__(self, input_dimension, output_dimension, bottleneck_dimension=2, rng=None):\n",
    "        super().__init__()\n",
    "        if rng is None:\n",
    "            rng = np.random.default_rng()\n",
    "        self.input_dimension = input_dimension\n",
    "        self.output_dimension = output_dimension\n",
    "        self.bottleneck_dimension = bottleneck_dimension\n",
    "        \n",
    "        # Since we actually only want linear transformations, which we're going to normalize before \n",
    "        # using, it's easier to just create the matrices explicitly. Note that we will multiply \n",
    "        # these matrices from the right since we assume that the first axis of the input is the \n",
    "        # batch dimension.\n",
    "        self.input_transform = nn.Parameter(torch.tensor(rng.normal(size=(input_dimension, bottleneck_dimension)), dtype=torch.float32))\n",
    "        self.output_transform = nn.Parameter(torch.tensor(rng.normal(size=(bottleneck_dimension, output_dimension)), dtype=torch.float32))\n",
    "    \n",
    "    def forward(self, x):\n",
    "        x_reduced = torch.matmul(x, self.input_transform)\n",
    "        logits = torch.matmul(x_reduced, self.output_transform)\n",
    "        return logits\n",
    "\n",
    "rng = np.random.default_rng(1729)\n",
    "prediction_head = BottleneckPredictionHead(num_ftrs, num_classes, bottleneck_dimension=2, rng=rng)\n",
    "model.fc = prediction_head"
   ]
  },
  {
   "cell_type": "code",
   "execution_count": 31,
   "metadata": {},
   "outputs": [
    {
     "data": {
      "text/plain": [
       "['x',\n",
       " 'conv1',\n",
       " 'bn1',\n",
       " 'relu',\n",
       " 'maxpool',\n",
       " 'layer1.0.conv1',\n",
       " 'layer1.0.bn1',\n",
       " 'layer1.0.relu',\n",
       " 'layer1.0.conv2',\n",
       " 'layer1.0.bn2',\n",
       " 'layer1.0.add',\n",
       " 'layer1.0.relu_1',\n",
       " 'layer1.1.conv1',\n",
       " 'layer1.1.bn1',\n",
       " 'layer1.1.relu',\n",
       " 'layer1.1.conv2',\n",
       " 'layer1.1.bn2',\n",
       " 'layer1.1.add',\n",
       " 'layer1.1.relu_1',\n",
       " 'layer2.0.conv1',\n",
       " 'layer2.0.bn1',\n",
       " 'layer2.0.relu',\n",
       " 'layer2.0.conv2',\n",
       " 'layer2.0.bn2',\n",
       " 'layer2.0.downsample.0',\n",
       " 'layer2.0.downsample.1',\n",
       " 'layer2.0.add',\n",
       " 'layer2.0.relu_1',\n",
       " 'layer2.1.conv1',\n",
       " 'layer2.1.bn1',\n",
       " 'layer2.1.relu',\n",
       " 'layer2.1.conv2',\n",
       " 'layer2.1.bn2',\n",
       " 'layer2.1.add',\n",
       " 'layer2.1.relu_1',\n",
       " 'layer3.0.conv1',\n",
       " 'layer3.0.bn1',\n",
       " 'layer3.0.relu',\n",
       " 'layer3.0.conv2',\n",
       " 'layer3.0.bn2',\n",
       " 'layer3.0.downsample.0',\n",
       " 'layer3.0.downsample.1',\n",
       " 'layer3.0.add',\n",
       " 'layer3.0.relu_1',\n",
       " 'layer3.1.conv1',\n",
       " 'layer3.1.bn1',\n",
       " 'layer3.1.relu',\n",
       " 'layer3.1.conv2',\n",
       " 'layer3.1.bn2',\n",
       " 'layer3.1.add',\n",
       " 'layer3.1.relu_1',\n",
       " 'layer4.0.conv1',\n",
       " 'layer4.0.bn1',\n",
       " 'layer4.0.relu',\n",
       " 'layer4.0.conv2',\n",
       " 'layer4.0.bn2',\n",
       " 'layer4.0.downsample.0',\n",
       " 'layer4.0.downsample.1',\n",
       " 'layer4.0.add',\n",
       " 'layer4.0.relu_1',\n",
       " 'layer4.1.conv1',\n",
       " 'layer4.1.bn1',\n",
       " 'layer4.1.relu',\n",
       " 'layer4.1.conv2',\n",
       " 'layer4.1.bn2',\n",
       " 'layer4.1.add',\n",
       " 'layer4.1.relu_1',\n",
       " 'avgpool',\n",
       " 'flatten',\n",
       " 'fc.fc_input_transform',\n",
       " 'fc.matmul',\n",
       " 'fc.fc_output_transform',\n",
       " 'fc.matmul_1']"
      ]
     },
     "execution_count": 31,
     "metadata": {},
     "output_type": "execute_result"
    }
   ],
   "source": [
    "from torchvision.models.feature_extraction import create_feature_extractor, get_graph_node_names\n",
    "# Inspect the forward graph of our model to get the correct feature node\n",
    "train_nodes, eval_nodes = get_graph_node_names(model)\n",
    "eval_nodes"
   ]
  },
  {
   "cell_type": "code",
   "execution_count": 32,
   "metadata": {},
   "outputs": [],
   "source": [
    "feature_extractor = create_feature_extractor(model, return_nodes={'fc.matmul': 'bottleneck_features', 'fc.fc_output_transform': 'softmax_weights'})"
   ]
  },
  {
   "cell_type": "code",
   "execution_count": 83,
   "metadata": {},
   "outputs": [
    {
     "data": {
      "application/vnd.jupyter.widget-view+json": {
       "model_id": "30414b1825be4e01a3cf74c17dbbd5a8",
       "version_major": 2,
       "version_minor": 0
      },
      "text/plain": [
       "Epoch:   0%|          | 0/20 [00:00<?, ?it/s]"
      ]
     },
     "metadata": {},
     "output_type": "display_data"
    },
    {
     "data": {
      "application/vnd.jupyter.widget-view+json": {
       "model_id": "805889b3a1a5467db6fec6bed04a0f4c",
       "version_major": 2,
       "version_minor": 0
      },
      "text/plain": [
       "Train batch:   0%|          | 0/844 [00:00<?, ?it/s]"
      ]
     },
     "metadata": {},
     "output_type": "display_data"
    },
    {
     "data": {
      "application/vnd.jupyter.widget-view+json": {
       "model_id": "e4a95a5178e5406fb4edc7fae1fcf4d7",
       "version_major": 2,
       "version_minor": 0
      },
      "text/plain": [
       "Dev batch:   0%|          | 0/94 [00:00<?, ?it/s]"
      ]
     },
     "metadata": {},
     "output_type": "display_data"
    }
   ],
   "source": [
    "from tqdm.notebook import tqdm, trange\n",
    "\n",
    "device = torch.device('cuda')\n",
    "\n",
    "batch_size = 64\n",
    "train_dataloader = DataLoader(train_split_dataset, batch_size=batch_size, shuffle=True, num_workers=4, persistent_workers=True)\n",
    "dev_dataloader = DataLoader(dev_split_dataset, batch_size=batch_size, shuffle=False, num_workers=4, persistent_workers=True)\n",
    "visualization_dataloader = DataLoader(visualization_dataset, batch_size=batch_size, drop_last=False, shuffle=False, num_workers=4, persistent_workers=True)\n",
    "\n",
    "model.to(device)\n",
    "\n",
    "loss_fn = torch.nn.CrossEntropyLoss()\n",
    "optimizer = torch.optim.AdamW(model.parameters(), lr=1e-4)\n",
    "\n",
    "epochs = 20\n",
    "sample_step = 20\n",
    "n_iterations = 0\n",
    "visualization_representations = {i: [] for i in range(epochs)}\n",
    "visualization_weights = {i: None for i in range(epochs)}\n",
    "visualization_targets = None\n",
    "\n",
    "epoch_progress_bar = trange(epochs, desc=\"Epoch\")\n",
    "train_progress_bar = trange(len(train_dataloader), desc=\"Train batch\")\n",
    "dev_progress_bar = trange(len(dev_dataloader), desc=\"Dev batch\")\n",
    "\n",
    "    \n",
    "for epoch in range(epochs):\n",
    "    model.train()\n",
    "    \n",
    "    train_progress_bar.reset()\n",
    "    dev_progress_bar.reset()    \n",
    "    for train_batch in train_dataloader:\n",
    "        optimizer.zero_grad()\n",
    "        inputs, targets = train_batch\n",
    "        cosine_predictions = model(inputs.to(device))\n",
    "        loss = loss_fn(cosine_predictions, targets.to(device))\n",
    "        loss.backward()\n",
    "        optimizer.step()\n",
    "        if n_iterations % sample_step == 0:\n",
    "            with torch.no_grad():\n",
    "                model.eval()\n",
    "                viz_features = []\n",
    "                viz_targets = []\n",
    "                normalized_softmax_weights = None\n",
    "                for viz_batch in visualization_dataloader:\n",
    "                    inputs, targets = viz_batch\n",
    "                    features = feature_extractor(inputs.to(device))\n",
    "                    viz_features.append(features['bottleneck_features'].cpu())\n",
    "                    if normalized_softmax_weights is None:\n",
    "                        normalized_softmax_weights = features['softmax_weights'].cpu().numpy()\n",
    "                    viz_targets.append(targets.cpu())\n",
    "                concatenated_viz_features = torch.concat(viz_features).numpy()\n",
    "                concatenated_viz_targets = torch.concat(viz_targets).numpy()\n",
    "                if visualization_targets is None:\n",
    "                    visualization_targets = concatenated_viz_targets\n",
    "                visualization_representations[n_iterations//sample_step] = concatenated_viz_features\n",
    "                visualization_weights[n_iterations//sample_step] = normalized_softmax_weights\n",
    "            model.train()\n",
    "        n_iterations += 1\n",
    "        train_progress_bar.update()\n",
    "        \n",
    "    \n",
    "    with torch.no_grad():\n",
    "        model.eval()\n",
    "        total_dev_loss = 0\n",
    "        n_dev_samples = 0\n",
    "        for dev_batch in dev_dataloader:\n",
    "            inputs, targets = dev_batch\n",
    "            cosine_predictions = model(inputs.to(device))\n",
    "            loss = loss_fn(cosine_predictions, targets.to(device))\n",
    "            n = len(inputs)\n",
    "            batch_loss = loss.item() * n\n",
    "            total_dev_loss += batch_loss\n",
    "            n_dev_samples += n\n",
    "            dev_progress_bar.update()\n",
    "        #print(\"Dev loss: \", total_dev_loss/n_dev_samples)\n",
    "    epoch_progress_bar.update()\n",
    "        \n",
    "        \n",
    "        \n",
    "\n",
    "        \n",
    "        "
   ]
  },
  {
   "cell_type": "code",
   "execution_count": 34,
   "metadata": {},
   "outputs": [
    {
     "data": {
      "text/plain": [
       "(2, 10)"
      ]
     },
     "execution_count": 34,
     "metadata": {},
     "output_type": "execute_result"
    }
   ],
   "source": [
    "initial_weights = visualization_weights[0]\n",
    "initial_weights.shape"
   ]
  },
  {
   "cell_type": "code",
   "execution_count": 105,
   "metadata": {},
   "outputs": [
    {
     "data": {
      "application/vnd.jupyter.widget-view+json": {
       "model_id": "9a9d8f948b5147968385994f6037929a",
       "version_major": 2,
       "version_minor": 0
      },
      "text/plain": [
       "interactive(children=(IntSlider(value=0, description='epoch', max=843), FloatSlider(value=5.0, description='we…"
      ]
     },
     "metadata": {},
     "output_type": "display_data"
    },
    {
     "data": {
      "text/plain": [
       "<function __main__.update_plot(epoch, weights_scale=5.0)>"
      ]
     },
     "execution_count": 105,
     "metadata": {},
     "output_type": "execute_result"
    }
   ],
   "source": [
    "import numpy as np\n",
    "import matplotlib.pyplot as plt\n",
    "from matplotlib.lines import Line2D\n",
    "import matplotlib.colors as colors\n",
    "#from matplotlib.animation import FuncAnimation\n",
    "from ipywidgets import interact\n",
    "import ipywidgets as widgets\n",
    "\n",
    "#fig, ax = plt.subplots(figsize=(8,8))\n",
    "\n",
    "initial_representations = visualization_representations[0]\n",
    "initial_weights = visualization_weights[0]\n",
    "\n",
    "cmap = plt.get_cmap('tab10')\n",
    "cNorm  = colors.Normalize(vmin=min(train_targets), vmax=max(train_targets))\n",
    "\n",
    "class_index_to_value = {i: v for v,i in train_dataset.class_to_idx.items()}\n",
    "class_index_to_color = {i: cmap(cNorm(i)) for i in class_index_to_value.keys()}\n",
    "\n",
    "all_representations = np.concatenate(list(visualization_representations.values()))\n",
    "x_lim_points = (all_representations[:,0].min(), all_representations[:,0].max())\n",
    "y_lim_points = (all_representations[:,1].min(), all_representations[:,1].max())\n",
    "\n",
    "all_weights = np.concatenate(list(visualization_weights.values()),axis=1)\n",
    "x_lim_lines = (all_weights[0,:].min(), all_weights[0,:].max())\n",
    "y_lim_lines = (all_weights[1,:].min(), all_weights[1,:].max())\n",
    "\n",
    "def update_plot(epoch, weights_scale=5.):\n",
    "    figure = plt.figure(figsize=(6,6))\n",
    "    representations = visualization_representations[epoch]\n",
    "    plt.scatter(representations[:,0], representations[:,1], c=[class_index_to_color[x] for x in visualization_targets])\n",
    "    epoch_weights = visualization_weights[epoch]\n",
    "    for i, (x,y) in enumerate(epoch_weights.T):\n",
    "        label = class_index_to_value[i]\n",
    "        color = class_index_to_color[i]\n",
    "        plt.plot([0, weights_scale*x], [0,weights_scale*y], label=label, color=color)\n",
    "    plt.xlim(x_lim_points)\n",
    "    plt.ylim(y_lim_points)\n",
    "    plt.legend()\n",
    "\n",
    "    \n",
    "\n",
    "interact(update_plot, epoch=widgets.IntSlider(min=0, max=max(visualization_representations.keys()), step=1, value=0), weights_scale=widgets.FloatSlider(min=0, max=400., step=0.1, value=5))\n"
   ]
  },
  {
   "cell_type": "markdown",
   "metadata": {},
   "source": [
    "While it's much harder to see due to the very different scales, you can see that the class vectors still strive to align _radially_ with the softmax vectors. The problem is that the initial vectors have very different magnitudes so the transformed inputs need to be mapped to magnitudes which compensates for this. One important take-away from this is that _Euclidean distance_ directly on the intermediate representations are not the best measure of what the neural network tries to do. Instead, you should look at the \"cosine similarity\" between vectors, or if you need a proper distance metric use the angular distance or Euclidean distance on the _normalized_ vectors which from a distance ranking to neighbours is equivalent with cosine similarity."
   ]
  },
  {
   "cell_type": "markdown",
   "metadata": {},
   "source": [
    "# Conclusions\n",
    "In this notebook we've focused on the role our class vectors in the output layer (just before softmax normalization) plays in driving the learning of the neural network. What we could see is that the fundamental similarity metric the neural networks use is the angle between vectors, due to the fact that we're mainly training the network to minimize angles between weight vectors. While we've only looked at the output layer, a similar observation could be made for all layers of the network. To get a unit at a particular layer to activate highly (disregarding the bias), the input vector to that unit should be as colinear as possible the the weight vector of that unit.\n",
    "\n",
    "\n",
    "Another point we could make here is that where to divide the network into the encoder and decoder part is up to us and what representations we are interested in. As we could see here, the representations at the next-to-last layer will be directly optimized to be as close as possible to our prototype vectors. Given enough capacity, the encoder network would have mapped all the training points to be exactly colinear to the prototype vectors. We would essentially have 10 (in the case of MNIST) very tightly packed clusters. This means that if we want to use the encoder neural network in _transfer learning_, these representation would be _overfit_ to the MNIST classification problem. They would likely be poor representations for other data such as general handwritten glyphs. So as a common piece of advice, if you are doing _transfer learning_, you probably don't want to take the representations just before the softmax weights.\n",
    "\n",
    "In the next notebook we'll take this observation, that the output layer is a set of _prototype_ vectors, one for each class, but we will do away with this notion and instead use the data examples themselves as the prototype vectors."
   ]
  }
 ],
 "metadata": {
  "kernelspec": {
   "display_name": "constrastive_learning",
   "language": "python",
   "name": "python3"
  },
  "language_info": {
   "codemirror_mode": {
    "name": "ipython",
    "version": 3
   },
   "file_extension": ".py",
   "mimetype": "text/x-python",
   "name": "python",
   "nbconvert_exporter": "python",
   "pygments_lexer": "ipython3",
   "version": "3.11.8"
  }
 },
 "nbformat": 4,
 "nbformat_minor": 2
}
